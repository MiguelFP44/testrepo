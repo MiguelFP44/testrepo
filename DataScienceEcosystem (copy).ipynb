{
  "metadata": {
    "kernelspec": {
      "name": "python",
      "display_name": "Python (Pyodide)",
      "language": "python"
    },
    "language_info": {
      "codemirror_mode": {
        "name": "python",
        "version": 3
      },
      "file_extension": ".py",
      "mimetype": "text/x-python",
      "name": "python",
      "nbconvert_exporter": "python",
      "pygments_lexer": "ipython3",
      "version": "3.8"
    }
  },
  "nbformat_minor": 5,
  "nbformat": 4,
  "cells": [
    {
      "id": "cb4e0f7b-91c9-4a65-99af-e75bb3c88590",
      "cell_type": "markdown",
      "source": "# Data Science Tools and Ecosystem",
      "metadata": {}
    },
    {
      "id": "38306a9c-482e-4a1b-af00-9252318c4735",
      "cell_type": "markdown",
      "source": "In this notebook, Data Science Tools and Ecosystem are summarized.",
      "metadata": {}
    },
    {
      "id": "8679a8da-c9e0-42d8-9132-f79e5fcd6fda",
      "cell_type": "markdown",
      "source": "**Objectives:**",
      "metadata": {}
    },
    {
      "id": "a1de5a87-c5d8-4f00-a879-f3fff9ce844d",
      "cell_type": "markdown",
      "source": "- Conocer algunos lenguajes más populares para la ciencia de datos\n- Conocer algunas Bibliotecas más populares para la ciencvia de datos\n- Realizar expresiones aritméticas",
      "metadata": {}
    },
    {
      "id": "e83c2aff-4f56-4e6b-a78c-8f6fbb55129c",
      "cell_type": "markdown",
      "source": "Some of the popular languages that Data Scientists use are:",
      "metadata": {}
    },
    {
      "id": "d3745edb-eab2-458e-9942-f4151f4336a7",
      "cell_type": "markdown",
      "source": "1. R\n2. SQL\n3. Python\n4. Java\n5. Julia\n6. Scala\n7. C++",
      "metadata": {}
    },
    {
      "id": "f3d56720-f8ca-46c0-b874-df8033365bca",
      "cell_type": "markdown",
      "source": "Some of the commonly used libraries used by Data Scientists include:",
      "metadata": {}
    },
    {
      "id": "550bd4d4-858c-49af-a2ed-619226b9d40b",
      "cell_type": "markdown",
      "source": "1. NumPy\n2. Pandas\n3. Seaborn\n4. Matplotlib\n5. Plotly\n6. Scikit-Learn ",
      "metadata": {}
    },
    {
      "id": "c1881bd0-988c-4e1c-9a36-5fb34a060daa",
      "cell_type": "markdown",
      "source": "|Data Science Tools|\n|------------------|\nAnaconda \nScikit-Learn \nTensor Flow",
      "metadata": {}
    },
    {
      "id": "a69ae1ad-109f-4276-9d1a-f131ec5c56ec",
      "cell_type": "markdown",
      "source": "### Below are a few examples of evaluating arithmetic expressions in Python",
      "metadata": {}
    },
    {
      "id": "b5ea1a3d-b88b-4c63-a0fb-7d939502953d",
      "cell_type": "markdown",
      "source": "This a simple arithmetic expression to mutiply then add integers",
      "metadata": {}
    },
    {
      "id": "78416441-56fa-4d80-a2af-e96479809491",
      "cell_type": "code",
      "source": "(3*4)+5",
      "metadata": {
        "trusted": true
      },
      "outputs": [
        {
          "execution_count": 7,
          "output_type": "execute_result",
          "data": {
            "text/plain": "17"
          },
          "metadata": {}
        }
      ],
      "execution_count": 7
    },
    {
      "id": "27e014e9-dacf-4ef5-9f57-2e8ff798ae8d",
      "cell_type": "markdown",
      "source": "his will convert 200 minutes to hours by diving by 60",
      "metadata": {}
    },
    {
      "id": "26241716-cb47-499f-9f63-afdf48f11013",
      "cell_type": "code",
      "source": "200/60",
      "metadata": {
        "trusted": true
      },
      "outputs": [
        {
          "execution_count": 8,
          "output_type": "execute_result",
          "data": {
            "text/plain": "3.3333333333333335"
          },
          "metadata": {}
        }
      ],
      "execution_count": 8
    },
    {
      "id": "b6dcd731-2dff-49cb-bfd3-6b464d0dda7a",
      "cell_type": "markdown",
      "source": "## Author",
      "metadata": {}
    },
    {
      "id": "e873f17e-86b1-4b45-992e-0532827b508d",
      "cell_type": "markdown",
      "source": "Miguel Figueroa Pérez",
      "metadata": {}
    },
    {
      "id": "6ed0982c-0aa9-4012-9f28-14190808986b",
      "cell_type": "code",
      "source": "",
      "metadata": {
        "trusted": true
      },
      "outputs": [],
      "execution_count": null
    }
  ]
}